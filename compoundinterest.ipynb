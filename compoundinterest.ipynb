{
  "cells": [
    {
      "cell_type": "markdown",
      "source": [
        "Python Program to Find the Factorial of a Number"
      ],
      "metadata": {
        "id": "M6z7foRfYuds"
      }
    },
    {
      "cell_type": "code",
      "source": [
        "P = int(input(\"Enter the Principal:Rs \"))\n",
        "R = int(input(\"Enter the Rate of Interest: \"))\n",
        "T = int(input(\"Enter the time in years: \"))\n",
        "A = P * pow((1+R/100),T)\n",
        "CI = A - P\n",
        "print(\"The Compound Interest is:Rs\",CI)\n",
        "print(\"The Amount is:Rs \",A)"
      ],
      "metadata": {
        "colab": {
          "base_uri": "https://localhost:8080/"
        },
        "id": "-2arxlraYvD8",
        "outputId": "52492b5f-56d2-4131-d844-ea89d62918b2"
      },
      "execution_count": 21,
      "outputs": [
        {
          "output_type": "stream",
          "name": "stdout",
          "text": [
            "Enter the Principal:Rs 500\n",
            "Enter the Rate of Interest: 2\n",
            "Enter the time in years: 2\n",
            "The Compound Interest is:Rs 20.200000000000045\n",
            "The Amount is:Rs  520.2\n"
          ]
        }
      ]
    }
  ],
  "metadata": {
    "colab": {
      "provenance": []
    },
    "kernelspec": {
      "display_name": "Python 3",
      "name": "python3"
    },
    "language_info": {
      "name": "python"
    }
  },
  "nbformat": 4,
  "nbformat_minor": 0
}