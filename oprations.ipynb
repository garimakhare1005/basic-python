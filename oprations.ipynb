{
  "nbformat": 4,
  "nbformat_minor": 0,
  "metadata": {
    "colab": {
      "provenance": []
    },
    "kernelspec": {
      "name": "python3",
      "display_name": "Python 3"
    },
    "language_info": {
      "name": "python"
    }
  },
  "cells": [
    {
      "cell_type": "markdown",
      "source": [
        "#Simple Python program to understand the arithmetical operator addition"
      ],
      "metadata": {
        "id": "ODy5EOkZyUUP"
      }
    },
    {
      "cell_type": "code",
      "source": [
        "num1 = int(input())\n",
        "num2 = int(input())\n",
        "sum = num1 + num2\n",
        "print(sum)"
      ],
      "metadata": {
        "colab": {
          "base_uri": "https://localhost:8080/"
        },
        "id": "WiBew9pYIhLa",
        "outputId": "32514d6b-29d5-4369-f40e-506f635291cb"
      },
      "execution_count": 3,
      "outputs": [
        {
          "output_type": "stream",
          "name": "stdout",
          "text": [
            "8\n",
            "61\n",
            "69\n"
          ]
        }
      ]
    },
    {
      "cell_type": "markdown",
      "source": [
        "#Simple Python program to understand the arithmetical operator subtraction  "
      ],
      "metadata": {
        "id": "N3yVeTOiJIrC"
      }
    },
    {
      "cell_type": "code",
      "source": [
        "num1 = input(\"Enter the first number:  \")\n",
        "num2 = input(\"Enter the second number:  \")\n",
        "min = int(num1) - int(num2)\n",
        "print('The subtraction of {0} and {1} is {2}'.format(num1, num2, min))"
      ],
      "metadata": {
        "colab": {
          "base_uri": "https://localhost:8080/"
        },
        "id": "OGyeEbHCJO0F",
        "outputId": "144b7464-99d2-456f-b818-880bbe60eb43"
      },
      "execution_count": 7,
      "outputs": [
        {
          "output_type": "stream",
          "name": "stdout",
          "text": [
            "Enter the first number:  8\n",
            "Enter the second number:  1\n",
            "The subtraction of 8 and 1 is 7\n"
          ]
        }
      ]
    },
    {
      "cell_type": "markdown",
      "source": [
        "# Simple Python program to understand the arithmetical operator muitiplication  "
      ],
      "metadata": {
        "id": "BZfDyKpvJ4Tj"
      }
    },
    {
      "cell_type": "code",
      "source": [
        "num1 = input(\"First Number: \")\n",
        "num2 = input(\"Second Number: \")\n",
        "mul = float(num1) * float(num2)\n",
        "print(\"The product of {0} and {1} is {2}\".format(num1,num2,mul))"
      ],
      "metadata": {
        "colab": {
          "base_uri": "https://localhost:8080/"
        },
        "id": "LWZBlvs9J5kx",
        "outputId": "2a28622b-7d4e-4835-f87c-985b098c7a5a"
      },
      "execution_count": 8,
      "outputs": [
        {
          "output_type": "stream",
          "name": "stdout",
          "text": [
            "First Number: 6.2\n",
            "Second Number: 1.2\n",
            "The product of 6.2 and 1.2 is 7.4399999999999995\n"
          ]
        }
      ]
    },
    {
      "cell_type": "markdown",
      "source": [
        "# Simple Python program to understand the arithmetical operator division  "
      ],
      "metadata": {
        "id": "Z2fLZyY7Kh2H"
      }
    },
    {
      "cell_type": "code",
      "source": [
        "a = input(\"First Number: \")\n",
        "b = input(\"second Number: \")\n",
        "c = float(a)/float(b)\n",
        "print('The Division of {0} and {1} is {2}'.format(a,b,c))"
      ],
      "metadata": {
        "colab": {
          "base_uri": "https://localhost:8080/"
        },
        "id": "GP88buC1Kjbi",
        "outputId": "ab6b551a-3aa4-4e79-a64d-f840c1c1224f"
      },
      "execution_count": 9,
      "outputs": [
        {
          "output_type": "stream",
          "name": "stdout",
          "text": [
            "First Number: 14\n",
            "second Number: 2\n",
            "The Division of 14 and 2 is 7.0\n"
          ]
        }
      ]
    }
  ]
}