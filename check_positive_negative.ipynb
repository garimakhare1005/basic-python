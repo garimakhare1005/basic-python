{
  "cells": [
    {
      "cell_type": "markdown",
      "source": [
        "Python Program to Sort Words in Alphabetic Order"
      ],
      "metadata": {
        "id": "pVY03ZwdcMni"
      }
    },
    {
      "cell_type": "code",
      "source": [
        "def CheckNumbers(n):\n",
        "  if n > 0:\n",
        "    print(\"The number is positive\")\n",
        "  elif n < 0:\n",
        "    print(\"The number is negative\")\n",
        "  else:\n",
        "    print(\"The number is zero\")\n",
        "n = float(input())\n",
        "CheckNumbers(n)"
      ],
      "metadata": {
        "colab": {
          "base_uri": "https://localhost:8080/"
        },
        "id": "5xmsHKkFcXWV",
        "outputId": "ea026296-f14a-4ab8-8529-38b09bde93a7"
      },
      "execution_count": 14,
      "outputs": [
        {
          "output_type": "stream",
          "name": "stdout",
          "text": [
            "9\n",
            "The number is positive\n"
          ]
        }
      ]
    }
  ],
  "metadata": {
    "colab": {
      "provenance": []
    },
    "kernelspec": {
      "display_name": "Python 3",
      "name": "python3"
    },
    "language_info": {
      "name": "python"
    }
  },
  "nbformat": 4,
  "nbformat_minor": 0
}