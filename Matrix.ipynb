{
  "cells": [
    {
      "cell_type": "markdown",
      "source": [
        "Python Program to Add Two Matrices"
      ],
      "metadata": {
        "id": "P8vV9SQNBYpj"
      }
    },
    {
      "cell_type": "code",
      "source": [
        "X =[[1,2,3],\n",
        "    [4,5,6,],\n",
        "    [6,7,8]]\n",
        "Y = [[12,13,1],\n",
        "     [2,4,22],\n",
        "     [3,21,20]]\n",
        "result = [[0,0,0],\n",
        "          [0,0,0],\n",
        "          [0,0,0]]\n",
        "for i in range(len(X)):\n",
        "  for j in range(len(X[0])):\n",
        "    result [i][j] = X[i][j] + Y[i][j]\n",
        "    for r in result:\n",
        "                 print(r)"
      ],
      "metadata": {
        "colab": {
          "base_uri": "https://localhost:8080/"
        },
        "id": "aVYhZRTmDqSj",
        "outputId": "585c9505-7005-4349-d164-842ef5549391"
      },
      "execution_count": 5,
      "outputs": [
        {
          "output_type": "stream",
          "name": "stdout",
          "text": [
            "[13, 0, 0]\n",
            "[0, 0, 0]\n",
            "[0, 0, 0]\n",
            "[13, 15, 0]\n",
            "[0, 0, 0]\n",
            "[0, 0, 0]\n",
            "[13, 15, 4]\n",
            "[0, 0, 0]\n",
            "[0, 0, 0]\n",
            "[13, 15, 4]\n",
            "[6, 0, 0]\n",
            "[0, 0, 0]\n",
            "[13, 15, 4]\n",
            "[6, 9, 0]\n",
            "[0, 0, 0]\n",
            "[13, 15, 4]\n",
            "[6, 9, 28]\n",
            "[0, 0, 0]\n",
            "[13, 15, 4]\n",
            "[6, 9, 28]\n",
            "[9, 0, 0]\n",
            "[13, 15, 4]\n",
            "[6, 9, 28]\n",
            "[9, 28, 0]\n",
            "[13, 15, 4]\n",
            "[6, 9, 28]\n",
            "[9, 28, 28]\n"
          ]
        }
      ]
    }
  ],
  "metadata": {
    "colab": {
      "provenance": []
    },
    "kernelspec": {
      "display_name": "Python 3",
      "name": "python3"
    },
    "language_info": {
      "name": "python"
    }
  },
  "nbformat": 4,
  "nbformat_minor": 0
}