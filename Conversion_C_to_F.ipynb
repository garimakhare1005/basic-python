{
  "cells": [
    {
      "cell_type": "markdown",
      "source": [
        "T(°Fahrenheit)=(T(°Celsius)*1.8)+32\n",
        "\n",
        "celsius = (Fahrenheit- 32)  / 1.8  "
      ],
      "metadata": {
        "id": "Joq--fzPhGFe"
      }
    },
    {
      "cell_type": "code",
      "source": [
        "t_Fahrenheit=int(input(\"Enter the value in Fahrenheit:\"))\n",
        "t_Celsius=(t_Fahrenheit-32)/1.8\n",
        "print(\"value in Celsius\",t_Celsius,\"C\")"
      ],
      "metadata": {
        "id": "AsSMb3vdhG6l",
        "colab": {
          "base_uri": "https://localhost:8080/"
        },
        "outputId": "8e5e4d2e-48ac-4c55-d2f6-9ab01868dc1b"
      },
      "execution_count": 3,
      "outputs": [
        {
          "output_type": "stream",
          "name": "stdout",
          "text": [
            "Enter the value in Fahrenheit:5\n",
            "value in Celsius -15.0 C\n"
          ]
        }
      ]
    },
    {
      "cell_type": "code",
      "source": [
        "t_celsius = int(input(\"Enter the value in celsius:\"))\n",
        "t_fahrenheit=((t_celsius)*1.8)+32\n",
        "print(\"value in fahrenheit\",t_fahrenheit,\"F\")"
      ],
      "metadata": {
        "colab": {
          "base_uri": "https://localhost:8080/"
        },
        "id": "U_xry8wUAosm",
        "outputId": "e193d428-d4fd-4695-a39c-74d75d1715d6"
      },
      "execution_count": 4,
      "outputs": [
        {
          "output_type": "stream",
          "name": "stdout",
          "text": [
            "Enter the value in celsius:15\n",
            "value in fahrenheit 59.0 F\n"
          ]
        }
      ]
    }
  ],
  "metadata": {
    "colab": {
      "provenance": []
    },
    "kernelspec": {
      "display_name": "Python 3",
      "name": "python3"
    },
    "language_info": {
      "name": "python"
    }
  },
  "nbformat": 4,
  "nbformat_minor": 0
}