{
  "cells": [
    {
      "cell_type": "markdown",
      "source": [
        "Python find the length of a list"
      ],
      "metadata": {
        "id": "RQ-NE9JIGjlN"
      }
    },
    {
      "cell_type": "code",
      "source": [
        "A = [1,2,3,1,2,3,1,2,3]\n",
        "n = len(A)\n",
        "print(\"Length of the list is: \",n)"
      ],
      "metadata": {
        "colab": {
          "base_uri": "https://localhost:8080/"
        },
        "id": "UUZlvbxXGn_U",
        "outputId": "01fa15d6-8c6b-419a-9a98-438e531b982f"
      },
      "execution_count": 12,
      "outputs": [
        {
          "output_type": "stream",
          "name": "stdout",
          "text": [
            "Length of the list is:  9\n"
          ]
        }
      ]
    }
  ],
  "metadata": {
    "colab": {
      "provenance": []
    },
    "kernelspec": {
      "display_name": "Python 3",
      "name": "python3"
    },
    "language_info": {
      "name": "python"
    }
  },
  "nbformat": 4,
  "nbformat_minor": 0
}