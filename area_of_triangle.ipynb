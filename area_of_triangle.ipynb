{
  "nbformat": 4,
  "nbformat_minor": 0,
  "metadata": {
    "colab": {
      "provenance": []
    },
    "kernelspec": {
      "name": "python3",
      "display_name": "Python 3"
    },
    "language_info": {
      "name": "python"
    }
  },
  "cells": [
    {
      "cell_type": "markdown",
      "source": [
        "program to find the area of a triangle\n",
        "\n",
        "1) Area of a triangle = (s*(s-a)*(s-b)*(s-c))^1/2\n",
        "\n",
        "2) Area of a right angled triangle = 1/2 * ( base * height)"
      ],
      "metadata": {
        "id": "5HPJEVnALJCO"
      }
    },
    {
      "cell_type": "code",
      "source": [
        "# Area of triangle = (s(s-a)(s-b)*(s-c))^1/2\n",
        "a = float(input('Enter first side: '))\n",
        "b = float(input('Enter second side: '))\n",
        "c = float(input('Enter third side: '))\n",
        "\n",
        "# calculate the semi-perimeter\n",
        "s = (a + b + c) / 2\n",
        "\n",
        "# calculate the area\n",
        "area = (s*(s-a)*(s-b)*(s-c)) ** 0.5\n",
        "print('The area of the triangle is %0.2f' %area)"
      ],
      "metadata": {
        "colab": {
          "base_uri": "https://localhost:8080/"
        },
        "id": "d4v1jZbYLi0Y",
        "outputId": "95a44e7a-cdd2-41a0-88d7-7f54e444e7a0"
      },
      "execution_count": 17,
      "outputs": [
        {
          "output_type": "stream",
          "name": "stdout",
          "text": [
            "Enter first side: 9\n",
            "Enter second side: 9\n",
            "Enter third side: 9\n",
            "The area of the triangle is 35.07\n"
          ]
        }
      ]
    },
    {
      "cell_type": "code",
      "source": [
        "#Area of right angled triangle = 0.5 *(base)*(height)\n",
        "a = float(input('Enter the base value: '))\n",
        "b = float(input('Enter the height value: '))\n",
        "area = 0.5*a*b\n",
        "print('The area of the right angled traingle is %0.2f'%area)"
      ],
      "metadata": {
        "colab": {
          "base_uri": "https://localhost:8080/"
        },
        "id": "PybUQQVeNjFS",
        "outputId": "e4433fc1-e5e4-4c41-dd24-a954d706756e"
      },
      "execution_count": 19,
      "outputs": [
        {
          "output_type": "stream",
          "name": "stdout",
          "text": [
            "Enter the base value: 4\n",
            "Enter the height value: 2\n",
            "The area of the right angled traingle is 4.00\n"
          ]
        }
      ]
    },
    {
      "cell_type": "markdown",
      "source": [
        "%0.2f floating-point specifies at least 0 wide and 2 numbers after the decimal. If you use %0.5f, then it will give 5 numbers after the decimal."
      ],
      "metadata": {
        "id": "-EPIHnsAOscp"
      }
    }
  ]
}