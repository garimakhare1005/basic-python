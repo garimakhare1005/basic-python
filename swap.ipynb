{
  "nbformat": 4,
  "nbformat_minor": 0,
  "metadata": {
    "colab": {
      "provenance": []
    },
    "kernelspec": {
      "name": "python3",
      "display_name": "Python 3"
    },
    "language_info": {
      "name": "python"
    }
  },
  "cells": [
    {
      "cell_type": "markdown",
      "source": [
        "Program to swap two variables\n",
        "Method 1: By using Naïve Approach\n",
        "Method 2: By using comma operator\n",
        "Method 3: By using XOR method\n",
        "Method 4: By using arithmetic operators"
      ],
      "metadata": {
        "id": "E8uHZa73fbs3"
      }
    },
    {
      "cell_type": "code",
      "source": [
        "#Program to swap two variable: Method 1\n",
        "a = int(input(\"Enter the first value: \"))\n",
        "b = int(input(\"Enter the second value: \"))\n",
        "#to swap create a temp\n",
        "temp1 = a\n",
        "a = b\n",
        "b = temp1\n",
        "print(\"Value of first value now after swapping: \",a)\n",
        "print(\"Value of second value now after swapping: \",b)\n"
      ],
      "metadata": {
        "colab": {
          "base_uri": "https://localhost:8080/"
        },
        "id": "3uQGP-JMeTcq",
        "outputId": "b13b31d2-42af-41f3-d854-cf2549e1a6ac"
      },
      "execution_count": 5,
      "outputs": [
        {
          "output_type": "stream",
          "name": "stdout",
          "text": [
            "Enter the first value: 5\n",
            "Enter the second value: 8\n",
            "Value of first value now after swapping:  8\n",
            "Value of second value now after swapping:  5\n"
          ]
        }
      ]
    },
    {
      "cell_type": "code",
      "source": [
        "#Program to swap two variables: Method 2\n",
        "a = int(input(\"Enter the first value: \"))\n",
        "b = int(input(\"Enter the second value: \"))\n",
        "a,b = b,a\n",
        "print(\"First Value after Swapping: \",a)\n",
        "print(\"Second Value after Swapping: \",b)\n"
      ],
      "metadata": {
        "colab": {
          "base_uri": "https://localhost:8080/"
        },
        "id": "hurefblhfzVE",
        "outputId": "62f00ac6-86a6-4b04-d2d7-96d4f9e0998e"
      },
      "execution_count": 6,
      "outputs": [
        {
          "output_type": "stream",
          "name": "stdout",
          "text": [
            "Enter the first value: 5\n",
            "Enter the second value: 8\n",
            "First Value after Swapping:  8\n",
            "Second Value after Swapping:  5\n"
          ]
        }
      ]
    },
    {
      "cell_type": "code",
      "source": [
        "#Program to swap two variables: Method 3\n",
        "a = int(input(\"Enter the first Value: \"))\n",
        "b = int(input(\"Enter the second value: \"))\n",
        "#We can also use the bitwise XOR method for swapping two variables.\n",
        "#The XOR of two variables, P and Q, will return the number which has all the bits as 1 whenever the bits of the P and Q variables differ.\n",
        "#Such as XOR of 4 (in binary 0100) and 6 (in binary 0110) is 1010.\n",
        "#XOR of 2 (in binary 0010) and 8 (in binary 1000) is 1010.\n",
        "a = a ^ b\n",
        "b = a ^ b\n",
        "a = a ^ b\n",
        "print (\"The Value of first value after swapping: \", a)\n",
        "print (\"The Value of second value after swapping: \", b)"
      ],
      "metadata": {
        "colab": {
          "base_uri": "https://localhost:8080/"
        },
        "id": "GHskDZXQgVqh",
        "outputId": "4bad23b2-6a81-40bd-be6d-7e91cd1606e6"
      },
      "execution_count": 8,
      "outputs": [
        {
          "output_type": "stream",
          "name": "stdout",
          "text": [
            "Enter the first Value: 5\n",
            "Enter the second value: 8\n",
            "The Value of first value after swapping:  8\n",
            "The Value of second value after swapping:  5\n"
          ]
        }
      ]
    },
    {
      "cell_type": "code",
      "source": [
        "#using addition and subtraction operation\n",
        "P = int( input(\"Please enter value for P: \"))\n",
        "Q = int( input(\"Please enter value for Q: \"))\n",
        "\n",
        "# To Swap the values of two variables using Addition and subtraction operator\n",
        "P = P + Q\n",
        "Q = P - Q\n",
        "P = P - Q\n",
        "\n",
        "print (\"The Value of P after swapping: \", P)\n",
        "print (\"The Value of Q after swapping: \", Q)"
      ],
      "metadata": {
        "colab": {
          "base_uri": "https://localhost:8080/"
        },
        "id": "MrtshEUgjeYI",
        "outputId": "18c4cd2a-0718-48ec-bed8-ea93ca112d27"
      },
      "execution_count": 9,
      "outputs": [
        {
          "output_type": "stream",
          "name": "stdout",
          "text": [
            "Please enter value for P: 5\n",
            "Please enter value for Q: 8\n",
            "The Value of P after swapping:  8\n",
            "The Value of Q after swapping:  5\n"
          ]
        }
      ]
    },
    {
      "cell_type": "code",
      "source": [
        "#using multiplication and division\n",
        "P = int( input(\"Please enter value for P: \"))\n",
        "Q = int( input(\"Please enter value for Q: \"))\n",
        "\n",
        "# To Swap the values of two variables using Addition and subtraction operator\n",
        "P = P * Q\n",
        "Q = P / Q\n",
        "P = P / Q\n",
        "\n",
        "print (\"The Value of P after swapping: \", P)\n",
        "print (\"The Value of Q after swapping: \", Q)"
      ],
      "metadata": {
        "colab": {
          "base_uri": "https://localhost:8080/"
        },
        "id": "bo7t5NH1jpc1",
        "outputId": "930290f3-6cf9-4f01-b089-04a96b039d5b"
      },
      "execution_count": 10,
      "outputs": [
        {
          "output_type": "stream",
          "name": "stdout",
          "text": [
            "Please enter value for P: 5\n",
            "Please enter value for Q: 8\n",
            "The Value of P after swapping:  8.0\n",
            "The Value of Q after swapping:  5.0\n"
          ]
        }
      ]
    }
  ]
}