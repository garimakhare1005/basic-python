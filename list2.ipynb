{
  "cells": [
    {
      "cell_type": "markdown",
      "source": [
        "Python Swap Two Elements in a List"
      ],
      "metadata": {
        "id": "RQ-NE9JIGjlN"
      }
    },
    {
      "cell_type": "code",
      "source": [
        "def swapElements(list,pos1,pos2):\n",
        "  list[pos1],list[pos2] = list[pos2],list[pos1]\n",
        "  return list\n",
        "list = [1,2,3,4,5,6,42,12]\n",
        "pos1,pos2 = 5,2\n",
        "\n",
        "print(swapElements(list,pos1,pos2))\n",
        "print(swapElements(list,pos1-1,pos2-1))"
      ],
      "metadata": {
        "colab": {
          "base_uri": "https://localhost:8080/"
        },
        "id": "UUZlvbxXGn_U",
        "outputId": "1a57b02a-2ce0-4b43-d184-1583c554ffd9"
      },
      "execution_count": 11,
      "outputs": [
        {
          "output_type": "stream",
          "name": "stdout",
          "text": [
            "[1, 2, 6, 4, 5, 3, 42, 12]\n",
            "[1, 5, 6, 4, 2, 3, 42, 12]\n"
          ]
        }
      ]
    }
  ],
  "metadata": {
    "colab": {
      "provenance": []
    },
    "kernelspec": {
      "display_name": "Python 3",
      "name": "python3"
    },
    "language_info": {
      "name": "python"
    }
  },
  "nbformat": 4,
  "nbformat_minor": 0
}