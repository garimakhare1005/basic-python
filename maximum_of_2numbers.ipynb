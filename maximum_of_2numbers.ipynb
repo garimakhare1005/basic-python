{
  "cells": [
    {
      "cell_type": "markdown",
      "source": [
        "Find Maximum of two numbers in Python"
      ],
      "metadata": {
        "id": "M6z7foRfYuds"
      }
    },
    {
      "cell_type": "code",
      "source": [
        "a = int(input(\"Enter the first number: \"))\n",
        "b = int(input(\"Enter the second number: \"))\n",
        "if a > b:\n",
        "  print(\"The first number is greater\")\n",
        "else:\n",
        "  print(\"The second number is greater\")"
      ],
      "metadata": {
        "colab": {
          "base_uri": "https://localhost:8080/"
        },
        "id": "-2arxlraYvD8",
        "outputId": "007321b3-5e73-4ee5-cad9-29f0115899ed"
      },
      "execution_count": 2,
      "outputs": [
        {
          "output_type": "stream",
          "name": "stdout",
          "text": [
            "Enter the first number: 5\n",
            "Enter the second number: -8\n",
            "The first number is greater\n"
          ]
        }
      ]
    },
    {
      "cell_type": "code",
      "source": [
        "a = int(input())\n",
        "b = int(input())\n",
        "maximum = max(a,b)\n",
        "print(maximum,\"is greater\")"
      ],
      "metadata": {
        "colab": {
          "base_uri": "https://localhost:8080/"
        },
        "id": "0ZA5hd36ZQSF",
        "outputId": "948d5b80-421e-4854-ae20-407f13d309a9"
      },
      "execution_count": 3,
      "outputs": [
        {
          "output_type": "stream",
          "name": "stdout",
          "text": [
            "8\n",
            "45\n",
            "45 is greater\n"
          ]
        }
      ]
    }
  ],
  "metadata": {
    "colab": {
      "provenance": []
    },
    "kernelspec": {
      "display_name": "Python 3",
      "name": "python3"
    },
    "language_info": {
      "name": "python"
    }
  },
  "nbformat": 4,
  "nbformat_minor": 0
}