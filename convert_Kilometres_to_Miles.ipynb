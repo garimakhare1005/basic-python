{
  "cells": [
    {
      "cell_type": "markdown",
      "source": [
        "1 kilometre equals 0.62137 miles.  \n",
        "Miles = kilometre * 0.62137  \n",
        "And,  \n",
        "Kilometre = Miles / 0.62137  "
      ],
      "metadata": {
        "id": "Joq--fzPhGFe"
      }
    },
    {
      "cell_type": "code",
      "source": [
        "Value_km = int(input(\"Enter the value in km:\"))\n",
        "Value_miles = Value_km * 0.62137\n",
        "print(\"Value in Miles:\",Value_miles)"
      ],
      "metadata": {
        "colab": {
          "base_uri": "https://localhost:8080/"
        },
        "id": "AsSMb3vdhG6l",
        "outputId": "db2e39ed-6e07-4b19-82c3-34ca7f59b1cc"
      },
      "execution_count": 8,
      "outputs": [
        {
          "output_type": "stream",
          "name": "stdout",
          "text": [
            "Enter the value in km:5\n",
            "Value in Miles: 3.1068499999999997\n"
          ]
        }
      ]
    },
    {
      "cell_type": "code",
      "source": [
        "Value_miles = int(input(\"Enter Value in miles:\"))\n",
        "value_km = Value_miles / 0.62137\n",
        "print(\"Values in kilometers:\",value_km,\"km\")"
      ],
      "metadata": {
        "colab": {
          "base_uri": "https://localhost:8080/"
        },
        "id": "vXNEepMEjIha",
        "outputId": "e28a712c-1fb6-4e6e-8649-eec7268a355d"
      },
      "execution_count": 10,
      "outputs": [
        {
          "output_type": "stream",
          "name": "stdout",
          "text": [
            "Enter Value in miles:5\n",
            "Values in kilometers: 8.046735439432222 km\n"
          ]
        }
      ]
    }
  ],
  "metadata": {
    "colab": {
      "provenance": []
    },
    "kernelspec": {
      "display_name": "Python 3",
      "name": "python3"
    },
    "language_info": {
      "name": "python"
    }
  },
  "nbformat": 4,
  "nbformat_minor": 0
}