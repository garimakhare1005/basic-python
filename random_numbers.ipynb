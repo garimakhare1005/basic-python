{
  "cells": [
    {
      "cell_type": "markdown",
      "metadata": {
        "id": "nfBUmSHVmvuB"
      },
      "source": [
        "Array in Python Practice : Introduction Geeksforgeeks"
      ]
    },
    {
      "cell_type": "code",
      "execution_count": null,
      "metadata": {
        "id": "38o9vtN1m3vb"
      },
      "outputs": [],
      "source": [
        "#Declare an array\n",
        "arr = [1,2,3,4,5]\n",
        "arr = ['hi','this','is','garima!']\n",
        "arr = ['hi',12,'12']"
      ]
    },
    {
      "cell_type": "markdown",
      "metadata": {
        "id": "S3Ng9BUjoXXM"
      },
      "source": [
        "reverse an array"
      ]
    },
    {
      "cell_type": "code",
      "source": [
        "#Program to generate a random number\n",
        "# 1. Generating a Random Number - Using the random() function\n",
        "import random\n",
        "\n",
        "#The random module provides a random() method that generates a float number between 0 and 1.\n",
        "n=random.random()\n",
        "print(\"Random Number between 0 to 1:\", n)\n",
        "print(\"Random Number between 0 to 1:\", random.random())\n",
        "print(\"Random Number between 0 to 1:\", random.random())"
      ],
      "metadata": {
        "id": "87VSUhb9YzsU",
        "colab": {
          "base_uri": "https://localhost:8080/"
        },
        "outputId": "2dbac0db-39c8-4fbf-98d1-4e31be2d0f9b"
      },
      "execution_count": null,
      "outputs": [
        {
          "output_type": "stream",
          "name": "stdout",
          "text": [
            "Random Number between 0 to 1: 0.771838119583736\n",
            "Random Number between 0 to 1: 0.5448341934944393\n",
            "Random Number between 0 to 1: 0.27913496946194294\n"
          ]
        }
      ]
    },
    {
      "cell_type": "code",
      "source": [
        "# 2. Generating a Number within a Given Range - Using the randint() function\n",
        "import random\n",
        "n= random.randint(7,30)\n",
        "#Python random module provides the randint() method that generates an integer number within a specific range. We can pass the two numbers as arguments that define the range.\n",
        "print(\"Random Number between 7 to 30:\",n)\n",
        "print(\"Random Number between 7 to 30:\",random.randint(7,30))"
      ],
      "metadata": {
        "colab": {
          "base_uri": "https://localhost:8080/"
        },
        "id": "nU7vSzFWb-BN",
        "outputId": "f1799815-fd1b-4453-f6e8-e5708104a37b"
      },
      "execution_count": null,
      "outputs": [
        {
          "output_type": "stream",
          "name": "stdout",
          "text": [
            "Random Number between 7 to 30: 23\n",
            "Random Number between 7 to 30: 22\n"
          ]
        }
      ]
    },
    {
      "cell_type": "code",
      "source": [
        "# 3.Creating a list of random integers using for loop\n",
        "import random\n",
        "rand_list = []\n",
        "for i in range(0,9):\n",
        "  n = random.randint(0,20)\n",
        "  rand_list.append(n)\n",
        "print(\"List of random numbers:\",rand_list)\n",
        "#The randint() method can be used with for loop to generate a list of random numbers.\n",
        "#To do so, we need to create an empty list and then append the random numbers generated to the empty list one by one."
      ],
      "metadata": {
        "colab": {
          "base_uri": "https://localhost:8080/"
        },
        "id": "63gk5rMDcvt1",
        "outputId": "c9029703-e3f6-41f4-dc83-e9a65e34bf6b"
      },
      "execution_count": 6,
      "outputs": [
        {
          "output_type": "stream",
          "name": "stdout",
          "text": [
            "List of random numbers: [1, 16, 10, 3, 3, 20, 18, 15, 1]\n"
          ]
        }
      ]
    },
    {
      "cell_type": "code",
      "source": [
        "# 4.Generating a random number list using sample() function\n",
        "# The random module also provides the sample() method, which directly generates a list of random numbers.\n",
        "import random\n",
        "random_list = random.sample(range(0,40),10)\n",
        "list_1 = [1,3,4,2,67,35,79,66,33,90]\n",
        "random_list1 = random.sample(list_1,5)\n",
        "print(\"List of random numbers 1:\",random_list)\n",
        "print(\"List of random numbers 2:\",random_list1)\n"
      ],
      "metadata": {
        "colab": {
          "base_uri": "https://localhost:8080/"
        },
        "id": "wr8djbhmd7Si",
        "outputId": "d86adae9-d123-43cc-bf7f-c4d09582aa14"
      },
      "execution_count": 7,
      "outputs": [
        {
          "output_type": "stream",
          "name": "stdout",
          "text": [
            "List of random numbers 1: [10, 28, 1, 2, 37, 27, 13, 39, 32, 25]\n",
            "List of random numbers 2: [2, 33, 66, 3, 1]\n"
          ]
        }
      ]
    },
    {
      "cell_type": "code",
      "source": [],
      "metadata": {
        "id": "eta6wRQzfkQU"
      },
      "execution_count": null,
      "outputs": []
    }
  ],
  "metadata": {
    "colab": {
      "provenance": []
    },
    "kernelspec": {
      "display_name": "Python 3",
      "name": "python3"
    },
    "language_info": {
      "name": "python"
    }
  },
  "nbformat": 4,
  "nbformat_minor": 0
}