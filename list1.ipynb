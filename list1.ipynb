{
  "cells": [
    {
      "cell_type": "markdown",
      "source": [
        "Python Program to interchange first and last elements in a list"
      ],
      "metadata": {
        "id": "oBV_EgcM6Zrj"
      }
    },
    {
      "cell_type": "code",
      "source": [
        "def swapList(list):\n",
        "  list[0],list[-1]=list[-1],list[0]\n",
        "  return list\n",
        "list = [1,2,3,4,5,6]\n",
        "print(swapList(list))\n",
        "\n",
        "\n"
      ],
      "metadata": {
        "colab": {
          "base_uri": "https://localhost:8080/"
        },
        "id": "sAGz8yPw6f2y",
        "outputId": "27538a91-24d3-4ef2-9b68-291c079bfbe3"
      },
      "execution_count": 3,
      "outputs": [
        {
          "output_type": "stream",
          "name": "stdout",
          "text": [
            "[6, 2, 3, 4, 5, 1]\n"
          ]
        }
      ]
    }
  ],
  "metadata": {
    "colab": {
      "provenance": []
    },
    "kernelspec": {
      "display_name": "Python 3",
      "name": "python3"
    },
    "language_info": {
      "name": "python"
    }
  },
  "nbformat": 4,
  "nbformat_minor": 0
}