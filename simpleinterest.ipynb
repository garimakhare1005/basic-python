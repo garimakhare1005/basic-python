{
  "cells": [
    {
      "cell_type": "markdown",
      "source": [
        "Python Program to Find the Factorial of a Number"
      ],
      "metadata": {
        "id": "M6z7foRfYuds"
      }
    },
    {
      "cell_type": "code",
      "source": [
        "P = int(input(\"Enter the Principal:Rs \"))\n",
        "R = int(input(\"Enter the Rate of Interest: \"))\n",
        "T = int(input(\"Enter the time in years: \"))\n",
        "SI = (P * R * T)/100\n",
        "print(\"The Simple Interest is:Rs\",SI)"
      ],
      "metadata": {
        "colab": {
          "base_uri": "https://localhost:8080/"
        },
        "id": "-2arxlraYvD8",
        "outputId": "5ca20007-8e25-4282-d0dd-4093ef3a9412"
      },
      "execution_count": 18,
      "outputs": [
        {
          "output_type": "stream",
          "name": "stdout",
          "text": [
            "Enter the Principal:Rs 400\n",
            "Enter the Rate of Interest: 5\n",
            "Enter the time in years: 1\n",
            "The Simple Interest is:Rs 20.0\n"
          ]
        }
      ]
    }
  ],
  "metadata": {
    "colab": {
      "provenance": []
    },
    "kernelspec": {
      "display_name": "Python 3",
      "name": "python3"
    },
    "language_info": {
      "name": "python"
    }
  },
  "nbformat": 4,
  "nbformat_minor": 0
}