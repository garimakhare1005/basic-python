{
  "cells": [
    {
      "cell_type": "code",
      "source": [
        "A = [[5,4,3],\n",
        "     [2,4,6],\n",
        "     [4,7,9],\n",
        "      [8, 1, 3]]\n",
        "result = [[0,0,0,0],\n",
        "          [0,0,0,0],\n",
        "          [0,0,0,0]]\n",
        "for i in range(len(A)):\n",
        "  for j in range(len(A[0])):\n",
        "    result[j][i] = A[i][j]\n",
        "for r in result:\n",
        "  print(r)"
      ],
      "metadata": {
        "colab": {
          "base_uri": "https://localhost:8080/"
        },
        "id": "iCqMMWngYMAb",
        "outputId": "8a51829f-3bad-40e9-80ed-8dbe59858255"
      },
      "execution_count": 10,
      "outputs": [
        {
          "output_type": "stream",
          "name": "stdout",
          "text": [
            "[5, 2, 4, 8]\n",
            "[4, 4, 7, 1]\n",
            "[3, 6, 9, 3]\n"
          ]
        }
      ]
    }
  ],
  "metadata": {
    "colab": {
      "provenance": []
    },
    "kernelspec": {
      "display_name": "Python 3",
      "name": "python3"
    },
    "language_info": {
      "name": "python"
    }
  },
  "nbformat": 4,
  "nbformat_minor": 0
}