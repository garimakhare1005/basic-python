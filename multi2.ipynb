{
  "nbformat": 4,
  "nbformat_minor": 0,
  "metadata": {
    "colab": {
      "provenance": []
    },
    "kernelspec": {
      "name": "python3",
      "display_name": "Python 3"
    },
    "language_info": {
      "name": "python"
    }
  },
  "cells": [
    {
      "cell_type": "code",
      "source": [
        "#Given two integer numbers, return their product only if the product is equal to or lower than 1000\n",
        "num1 = int(input())\n",
        "num2 = int(input())\n",
        "def multiplication_or_sum(num1,num2):\n",
        "  product = num1 * num2\n",
        "  if product <= 1000:\n",
        "    return product\n",
        "  else:\n",
        "    return num1 + num2\n",
        "result = multiplication_or_sum(num1, num2)\n",
        "print(\"result is\",result)\n",
        "\n"
      ],
      "metadata": {
        "colab": {
          "base_uri": "https://localhost:8080/"
        },
        "id": "QEZk_kobwfdi",
        "outputId": "e58df4af-1126-4215-b3c9-472de357717c"
      },
      "execution_count": 10,
      "outputs": [
        {
          "output_type": "stream",
          "name": "stdout",
          "text": [
            "5000\n",
            "2\n",
            "result is 5002\n"
          ]
        }
      ]
    }
  ]
}