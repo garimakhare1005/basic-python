{
  "nbformat": 4,
  "nbformat_minor": 0,
  "metadata": {
    "colab": {
      "provenance": []
    },
    "kernelspec": {
      "name": "python3",
      "display_name": "Python 3"
    },
    "language_info": {
      "name": "python"
    }
  },
  "cells": [
    {
      "cell_type": "markdown",
      "source": [
        "Write a program to iterate the first 10 numbers, and in each iteration, print the sum of the current and previous number."
      ],
      "metadata": {
        "id": "ODy5EOkZyUUP"
      }
    },
    {
      "cell_type": "code",
      "source": [
        "print(\"Printing current and previous number and their sum in a range(10)\")\n",
        "previous_num = 0\n",
        "for i in range(1,11):\n",
        "  x_sum = previous_num + i\n",
        "  print(\"Current Number\", i , \"Previous Number\", previous_num, \"Sum\", x_sum)\n",
        "previous_num = i"
      ],
      "metadata": {
        "colab": {
          "base_uri": "https://localhost:8080/"
        },
        "id": "1dult13NyVk_",
        "outputId": "874fe82c-ee19-4974-9ef5-ccb665be9ae8"
      },
      "execution_count": 12,
      "outputs": [
        {
          "output_type": "stream",
          "name": "stdout",
          "text": [
            "Printing current and previous number and their sum in a range(10)\n",
            "Current Number 1 Previous Number 0 Sum 1\n",
            "Current Number 2 Previous Number 0 Sum 2\n",
            "Current Number 3 Previous Number 0 Sum 3\n",
            "Current Number 4 Previous Number 0 Sum 4\n",
            "Current Number 5 Previous Number 0 Sum 5\n",
            "Current Number 6 Previous Number 0 Sum 6\n",
            "Current Number 7 Previous Number 0 Sum 7\n",
            "Current Number 8 Previous Number 0 Sum 8\n",
            "Current Number 9 Previous Number 0 Sum 9\n",
            "Current Number 10 Previous Number 0 Sum 10\n"
          ]
        }
      ]
    }
  ]
}