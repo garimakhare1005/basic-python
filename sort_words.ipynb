{
  "cells": [
    {
      "cell_type": "markdown",
      "source": [
        "Python Program to Sort Words in Alphabetic Order"
      ],
      "metadata": {
        "id": "pVY03ZwdcMni"
      }
    },
    {
      "cell_type": "code",
      "source": [
        "my_str = input(\"Enter a string: \")\n",
        "\n",
        "words = my_str.split()\n",
        "\n",
        "words.sort()\n",
        "\n",
        "for word in words:\n",
        "   print(word)"
      ],
      "metadata": {
        "colab": {
          "base_uri": "https://localhost:8080/"
        },
        "id": "5xmsHKkFcXWV",
        "outputId": "0ecfad9e-000b-4647-8fee-cdee47f4358c"
      },
      "execution_count": 13,
      "outputs": [
        {
          "output_type": "stream",
          "name": "stdout",
          "text": [
            "Enter a string: I am garima khare\n",
            "I\n",
            "am\n",
            "garima\n",
            "khare\n"
          ]
        }
      ]
    }
  ],
  "metadata": {
    "colab": {
      "provenance": []
    },
    "kernelspec": {
      "display_name": "Python 3",
      "name": "python3"
    },
    "language_info": {
      "name": "python"
    }
  },
  "nbformat": 4,
  "nbformat_minor": 0
}