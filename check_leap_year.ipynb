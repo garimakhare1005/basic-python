{
  "cells": [
    {
      "cell_type": "markdown",
      "source": [
        "Python Program to Sort Words in Alphabetic Order"
      ],
      "metadata": {
        "id": "pVY03ZwdcMni"
      }
    },
    {
      "cell_type": "code",
      "source": [
        "def CheckNumbers(n):\n",
        "  if (n%4) == 0:\n",
        "    print(\"The Year is a leap year\")\n",
        "  elif (n % 100) == 0:\n",
        "    print(\"The year is a leap year\")\n",
        "\n",
        "  else:\n",
        "    print(\"The year is NOT a leap year\")\n",
        "n = int(input())\n",
        "CheckNumbers(n)"
      ],
      "metadata": {
        "colab": {
          "base_uri": "https://localhost:8080/"
        },
        "id": "5xmsHKkFcXWV",
        "outputId": "6d45eedf-4e29-4a24-8c97-f89b97de1fff"
      },
      "execution_count": 17,
      "outputs": [
        {
          "output_type": "stream",
          "name": "stdout",
          "text": [
            "100\n",
            "The Year is a leap year\n"
          ]
        }
      ]
    }
  ],
  "metadata": {
    "colab": {
      "provenance": []
    },
    "kernelspec": {
      "display_name": "Python 3",
      "name": "python3"
    },
    "language_info": {
      "name": "python"
    }
  },
  "nbformat": 4,
  "nbformat_minor": 0
}