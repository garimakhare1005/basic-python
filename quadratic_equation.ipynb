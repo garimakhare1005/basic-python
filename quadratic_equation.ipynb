{
  "nbformat": 4,
  "nbformat_minor": 0,
  "metadata": {
    "colab": {
      "provenance": []
    },
    "kernelspec": {
      "name": "python3",
      "display_name": "Python 3"
    },
    "language_info": {
      "name": "python"
    }
  },
  "cells": [
    {
      "cell_type": "markdown",
      "source": [
        "solve quadratic equation: ax2+bx+c=0\n"
      ],
      "metadata": {
        "id": "eI1NmIqfaU07"
      }
    },
    {
      "cell_type": "code",
      "source": [
        "import cmath\n",
        "a = float(input('Enter a: '))\n",
        "b = float(input('Enter b: '))\n",
        "c = float(input('Enter c: '))\n",
        "# calculate discriminant\n",
        "d = b**2 - 4*a*c\n",
        "#find two solutions\n",
        "sol1 = (-b-cmath.sqrt(d))/(2*a)\n",
        "sol2 = (b-cmath.sqrt(d))/(2*a)\n",
        "print('The solutions are {0} and {1}'.format(sol1,sol2))\n"
      ],
      "metadata": {
        "colab": {
          "base_uri": "https://localhost:8080/"
        },
        "id": "7iFXL1TpaYUJ",
        "outputId": "6635b48c-c4b8-4e3f-91f7-deeffa2a7229"
      },
      "execution_count": 1,
      "outputs": [
        {
          "output_type": "stream",
          "name": "stdout",
          "text": [
            "Enter a: 5\n",
            "Enter b: 4\n",
            "Enter c: 3\n",
            "The solutions are (-0.4-0.6633249580710799j) and (0.4-0.6633249580710799j)\n"
          ]
        }
      ]
    },
    {
      "cell_type": "markdown",
      "source": [
        "In the first line, we have imported the cmath module and we have defined three variables named a, b, and c which takes input from the user. Then, we calculated the discriminant using the formula. Using the cmath.sqrt() method, we have calculated two solutions and printed the result."
      ],
      "metadata": {
        "id": "AUrs5nNRbyJW"
      }
    },
    {
      "cell_type": "markdown",
      "source": [
        "Python program to find roots of quadratic equation  including complex roots"
      ],
      "metadata": {
        "id": "bLu6vP8fb5BN"
      }
    },
    {
      "cell_type": "code",
      "source": [
        "import math\n",
        "def findRoots(a,b,c):\n",
        "  dis_form = b**2- 4*a*c\n",
        "  sqrt_val = math.sqrt(abs(dis_form))\n",
        "  #abs(dis_form): This takes the absolute value of the discriminant. The absolute value ensures that the value inside the square root is non-negative.\n",
        "  #The square root of a negative number is not a real number, so taking the absolute value ensures that the computation inside math.sqrt() is valid.\n",
        "  if dis_form > 0:\n",
        "    print(\"real and different roots \")\n",
        "    print((-b + sqrt_val)/(2*a))\n",
        "    print((b + sqrt_val)/(2*a))\n",
        "  elif dis_form == 0:\n",
        "    print(\"real and same roots\")\n",
        "    print((-b)/(2*a))\n",
        "\n",
        "  else:\n",
        "    print(\"Complex Roots\")\n",
        "    print(-b/(2*a),\" + i\", sqrt_val)\n",
        "    print(-b/(2*a), \" - i\", sqrt_val)\n",
        "\n",
        "a = int(input('Enter a:'))\n",
        "b = int(input('Enter b:'))\n",
        "c = int(input('Enter c:'))\n",
        "\n",
        "# If a is 0, then incorrect equation\n",
        "if a == 0:\n",
        "    print(\"Input correct quadratic equation\")\n",
        "\n",
        "else:\n",
        "    findRoots(a, b, c)"
      ],
      "metadata": {
        "colab": {
          "base_uri": "https://localhost:8080/"
        },
        "id": "6HwZbY-CcAtd",
        "outputId": "1ff953a4-9435-464e-cc9b-9646d76a82c0"
      },
      "execution_count": 2,
      "outputs": [
        {
          "output_type": "stream",
          "name": "stdout",
          "text": [
            "Enter a:5\n",
            "Enter b:8\n",
            "Enter c:7\n",
            "Complex Roots\n",
            "-0.8  + i 8.717797887081348\n",
            "-0.8  - i 8.717797887081348\n"
          ]
        }
      ]
    }
  ]
}