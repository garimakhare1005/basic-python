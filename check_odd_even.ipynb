{
  "cells": [
    {
      "cell_type": "markdown",
      "source": [
        "Python Program to Sort Words in Alphabetic Order"
      ],
      "metadata": {
        "id": "pVY03ZwdcMni"
      }
    },
    {
      "cell_type": "code",
      "source": [
        "def CheckNumbers(n):\n",
        "  if (n%2) == 0:\n",
        "    print(\"The number is even\")\n",
        "\n",
        "  else:\n",
        "    print(\"The number is odd\")\n",
        "n = float(input())\n",
        "CheckNumbers(n)"
      ],
      "metadata": {
        "colab": {
          "base_uri": "https://localhost:8080/"
        },
        "id": "5xmsHKkFcXWV",
        "outputId": "97d2c988-95b5-4ff0-c46a-897904c18877"
      },
      "execution_count": 15,
      "outputs": [
        {
          "output_type": "stream",
          "name": "stdout",
          "text": [
            "87\n",
            "The number is odd\n"
          ]
        }
      ]
    }
  ],
  "metadata": {
    "colab": {
      "provenance": []
    },
    "kernelspec": {
      "display_name": "Python 3",
      "name": "python3"
    },
    "language_info": {
      "name": "python"
    }
  },
  "nbformat": 4,
  "nbformat_minor": 0
}