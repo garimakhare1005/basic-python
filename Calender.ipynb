{
  "cells": [
    {
      "cell_type": "markdown",
      "source": [
        "Python Program to display Calender"
      ],
      "metadata": {
        "id": "P8vV9SQNBYpj"
      }
    },
    {
      "cell_type": "code",
      "source": [
        "import calendar\n",
        "y = int(input(\"Enter the year:\"))\n",
        "m = int(input(\"Enter the month:\"))\n",
        "print(calendar.month(y,m))"
      ],
      "metadata": {
        "colab": {
          "base_uri": "https://localhost:8080/"
        },
        "id": "MULL0cPaBbep",
        "outputId": "fd212586-bff6-47dd-eda2-de56505aa2b8"
      },
      "execution_count": 9,
      "outputs": [
        {
          "output_type": "stream",
          "name": "stdout",
          "text": [
            "Enter the year:2021\n",
            "Enter the month:5\n",
            "      May 2021\n",
            "Mo Tu We Th Fr Sa Su\n",
            "                1  2\n",
            " 3  4  5  6  7  8  9\n",
            "10 11 12 13 14 15 16\n",
            "17 18 19 20 21 22 23\n",
            "24 25 26 27 28 29 30\n",
            "31\n",
            "\n"
          ]
        }
      ]
    }
  ],
  "metadata": {
    "colab": {
      "provenance": []
    },
    "kernelspec": {
      "display_name": "Python 3",
      "name": "python3"
    },
    "language_info": {
      "name": "python"
    }
  },
  "nbformat": 4,
  "nbformat_minor": 0
}