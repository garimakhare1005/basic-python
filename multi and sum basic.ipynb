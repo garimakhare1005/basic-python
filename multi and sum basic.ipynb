{
  "nbformat": 4,
  "nbformat_minor": 0,
  "metadata": {
    "colab": {
      "provenance": []
    },
    "kernelspec": {
      "name": "python3",
      "display_name": "Python 3"
    },
    "language_info": {
      "name": "python"
    }
  },
  "cells": [
    {
      "cell_type": "code",
      "execution_count": 1,
      "metadata": {
        "id": "MQ2pqwiggsx9",
        "colab": {
          "base_uri": "https://localhost:8080/"
        },
        "outputId": "34fae2de-47da-4917-d8c6-e85f71474ee4"
      },
      "outputs": [
        {
          "output_type": "stream",
          "name": "stdout",
          "text": [
            "200\n"
          ]
        }
      ],
      "source": [
        "#Calculate multiplication and sum of two numbers\n",
        "num1 = 10\n",
        "num2 = 20\n",
        "num3 = num1 * num2\n",
        "print(num3)"
      ]
    },
    {
      "cell_type": "code",
      "source": [
        "n1 = 23\n",
        "n2 = 25\n",
        "n3 = n1 + n2\n",
        "print(n3)"
      ],
      "metadata": {
        "colab": {
          "base_uri": "https://localhost:8080/"
        },
        "id": "lqZeG0Grvm6-",
        "outputId": "0287ed34-d982-43fa-ab1b-2c89b30a369e"
      },
      "execution_count": 2,
      "outputs": [
        {
          "output_type": "stream",
          "name": "stdout",
          "text": [
            "48\n"
          ]
        }
      ]
    }
  ]
}