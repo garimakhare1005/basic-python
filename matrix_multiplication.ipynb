{
  "cells": [
    {
      "cell_type": "code",
      "source": [
        "A = [[5,4,3],\n",
        "     [2,4,6],\n",
        "     [4,7,9]]\n",
        "B = [[3,2,4],\n",
        "     [4,3,6],\n",
        "     [2,7,5]]\n",
        "result = [[0,0,0],\n",
        "          [0,0,0],\n",
        "          [0,0,0]]\n",
        "for i in range(len(A)):\n",
        "  for j in range(len(B[0])):\n",
        "    for k in range(len(B)):\n",
        "      result[i][j] += A[i][k] * B[k][j]\n",
        "for r in result:\n",
        "  print(r)"
      ],
      "metadata": {
        "colab": {
          "base_uri": "https://localhost:8080/"
        },
        "id": "iCqMMWngYMAb",
        "outputId": "d9abb6eb-f760-4e09-f582-f6c3911667aa"
      },
      "execution_count": 8,
      "outputs": [
        {
          "output_type": "stream",
          "name": "stdout",
          "text": [
            "[37, 43, 59]\n",
            "[34, 58, 62]\n",
            "[58, 92, 103]\n"
          ]
        }
      ]
    }
  ],
  "metadata": {
    "colab": {
      "provenance": []
    },
    "kernelspec": {
      "display_name": "Python 3",
      "name": "python3"
    },
    "language_info": {
      "name": "python"
    }
  },
  "nbformat": 4,
  "nbformat_minor": 0
}